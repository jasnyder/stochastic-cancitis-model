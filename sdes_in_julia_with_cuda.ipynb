{
 "cells": [
  {
   "cell_type": "code",
   "execution_count": 41,
   "metadata": {},
   "outputs": [
    {
     "name": "stderr",
     "output_type": "stream",
     "text": [
      "WARNING: using LinearAlgebra.rotate! in module Main conflicts with an existing identifier.\n"
     ]
    }
   ],
   "source": [
    "using DifferentialEquations\n",
    "using Plots\n",
    "using DifferentialEquations.EnsembleAnalysis\n",
    "using DiffEqGPU, OrdinaryDiffEq, StaticArrays, CUDA\n",
    "using LinearAlgebra"
   ]
  },
  {
   "cell_type": "code",
   "execution_count": 95,
   "metadata": {},
   "outputs": [
    {
     "data": {
      "text/plain": [
       "(0.0f0, 29200.0f0)"
      ]
     },
     "execution_count": 95,
     "metadata": {},
     "output_type": "execute_result"
    }
   ],
   "source": [
    "const rx = 8.7f-4\n",
    "const ry = 1.5f-3\n",
    "const ax = 1.1f-5\n",
    "const ay = 1.1f-5\n",
    "const Ax = 4.7f13\n",
    "const Ay = 4.7f13\n",
    "const dx0 = 2f-3\n",
    "const dy0 = 2f-3\n",
    "const dx1 = 129\n",
    "const dy1 = 129\n",
    "const dy0t = 2f-9\n",
    "const cxx = 7.5f-5\n",
    "const cxy = 7.5f-5\n",
    "const cyx = 7.5f-5\n",
    "const cyy = 7.5f-5\n",
    "const es = 2\n",
    "const rs = 3f-4\n",
    "const ea = 2f9\n",
    "const rₘ = 2f-8\n",
    "const Iₑ = 7\n",
    "\n",
    "\n",
    "function dimensional_reduced_cancitis_rhs(du, u, p, t)\n",
    "    # out-of-place version with static vectors\n",
    "    x0 = view(u, 1:1)\n",
    "    y0 = view(u, 2:2)\n",
    "    x1 = ax.*Ax.*x0./dx1\n",
    "    y1 = ay.*Ay.*y0./dy1\n",
    "    phix = 1 ./(1 .+(cxx.*x0 + cxy.*y0).^2)\n",
    "    phiy = 1 ./(1 .+(cyx.*x0 + cyy.*y0).^2)\n",
    "    kappa = dx0.*x0 .+ (dy0t.*y0 .+ dy0).*y0 .+ dx1.*x1 .+ dy1.*y1\n",
    "    a = 0.5 .*((Iₑ./rs).^2 .+ 4 .*es.*kappa./(ea.*rs)).^(0.5) .- Iₑ./(2 .*rs)\n",
    "    s = rs.*a./es .+ Iₑ./es\n",
    "    du1 = @view du[1:1]\n",
    "    du2 = @view du[2:2]\n",
    "    @. du1 = (rx.*phix.*s - dx0 - ax).*x0 - rₘ.*s.*x0\n",
    "    @. du2 = (ry.*phiy.*s - dy0 - dy0t.*y0 - ay).*y0 + rₘ.*s.*x0\n",
    "end\n",
    "\n",
    "function reduced_cancitis_noise(du, u, p, t)\n",
    "    # out of place version with static vectors\n",
    "    @. du = u./3f2\n",
    "end\n",
    "\n",
    "u0 = CuArray([1.01f4, 0f0])\n",
    "du0 = CuArray(zeros(Float32, 2))\n",
    "p = CuArray([8.7f-4, 1.5f-3, 1.1f-5, 1.1f-5, 4.7f13, 4.7f13, 2f-3, 2f-3, 129, 129, 2f-9, 7.5f-5, 7.5f-5, 7.5f-5, 7.5f-5, 2, 3f-4, 2f9, 2f-8, 7])\n",
    "t_final=365f0*80f0\n",
    "tspan = (0f0, t_final)\n",
    "# call the rhs function once to precompile it"
   ]
  },
  {
   "cell_type": "code",
   "execution_count": 97,
   "metadata": {},
   "outputs": [
    {
     "name": "stdout",
     "output_type": "stream",
     "text": [
      "  0.000568 seconds (705 allocations: 54.156 KiB)\n"
     ]
    },
    {
     "data": {
      "text/plain": [
       "1-element CuArray{Float32, 1, CUDA.Mem.DeviceBuffer}:\n",
       " 0.0007289227"
      ]
     },
     "execution_count": 97,
     "metadata": {},
     "output_type": "execute_result"
    }
   ],
   "source": [
    "t = 0f0\n",
    "CUDA.allowscalar(false)\n",
    "#reduced_cancitis_noise(u0, p, t)\n",
    "@time dimensional_reduced_cancitis_rhs(du0, u0, p, t)"
   ]
  },
  {
   "cell_type": "code",
   "execution_count": 98,
   "metadata": {},
   "outputs": [
    {
     "ename": "LoadError",
     "evalue": "ArgumentError: cannot take the CPU address of a CuArray{Float32, 2, CUDA.Mem.DeviceBuffer}",
     "output_type": "error",
     "traceback": [
      "ArgumentError: cannot take the CPU address of a CuArray{Float32, 2, CUDA.Mem.DeviceBuffer}",
      "",
      "Stacktrace:",
      "  [1] unsafe_convert(#unused#::Type{Ptr{Float32}}, x::CuArray{Float32, 2, CUDA.Mem.DeviceBuffer})",
      "    @ CUDA C:\\Users\\jordan\\.julia\\packages\\CUDA\\BbliS\\src\\array.jl:319",
      "  [2] geqrt!(A::CuArray{Float32, 2, CUDA.Mem.DeviceBuffer}, T::CuArray{Float32, 2, CUDA.Mem.DeviceBuffer})",
      "    @ LinearAlgebra.LAPACK C:\\buildbot\\worker\\package_win64\\build\\usr\\share\\julia\\stdlib\\v1.6\\LinearAlgebra\\src\\lapack.jl:462",
      "  [3] geqrt!",
      "    @ C:\\buildbot\\worker\\package_win64\\build\\usr\\share\\julia\\stdlib\\v1.6\\LinearAlgebra\\src\\lapack.jl:727 [inlined]",
      "  [4] qr!(A::CuArray{Float32, 2, CUDA.Mem.DeviceBuffer}, ::Val{false}; blocksize::Int64)",
      "    @ LinearAlgebra C:\\buildbot\\worker\\package_win64\\build\\usr\\share\\julia\\stdlib\\v1.6\\LinearAlgebra\\src\\qr.jl:283",
      "  [5] qr!(A::CuArray{Float32, 2, CUDA.Mem.DeviceBuffer}, ::Val{false})",
      "    @ LinearAlgebra C:\\buildbot\\worker\\package_win64\\build\\usr\\share\\julia\\stdlib\\v1.6\\LinearAlgebra\\src\\qr.jl:283",
      "  [6] do_factorization",
      "    @ C:\\Users\\jordan\\.julia\\packages\\LinearSolve\\dxfUd\\src\\factorization.jl:95 [inlined]",
      "  [7] init_cacheval(alg::QRFactorization{Val{false}}, A::CuArray{Float32, 2, CUDA.Mem.DeviceBuffer}, b::CuArray{Float32, 1, CUDA.Mem.DeviceBuffer}, u::CuArray{Float32, 1, CUDA.Mem.DeviceBuffer}, Pl::LinearSolve.InvPreconditioner{Diagonal{Float32, CuArray{Float32, 1, CUDA.Mem.DeviceBuffer}}}, Pr::Diagonal{Float32, CuArray{Float32, 1, CUDA.Mem.DeviceBuffer}}, maxiters::Int64, abstol::Float32, reltol::Float32, verbose::Bool, assumptions::LinearSolve.OperatorAssumptions{Nothing})",
      "    @ LinearSolve C:\\Users\\jordan\\.julia\\packages\\LinearSolve\\dxfUd\\src\\factorization.jl:235",
      "  [8] init(::LinearProblem{CuArray{Float32, 1, CUDA.Mem.DeviceBuffer}, true, CuArray{Float32, 2, CUDA.Mem.DeviceBuffer}, CuArray{Float32, 1, CUDA.Mem.DeviceBuffer}, SciMLBase.NullParameters, Base.Iterators.Pairs{Union{}, Union{}, Tuple{}, NamedTuple{(), Tuple{}}}}, ::QRFactorization{Val{false}}; alias_A::Bool, alias_b::Bool, abstol::Float32, reltol::Float32, maxiters::Int64, verbose::Bool, Pl::LinearSolve.InvPreconditioner{Diagonal{Float32, CuArray{Float32, 1, CUDA.Mem.DeviceBuffer}}}, Pr::Diagonal{Float32, CuArray{Float32, 1, CUDA.Mem.DeviceBuffer}}, assumptions::LinearSolve.OperatorAssumptions{Nothing}, kwargs::Base.Iterators.Pairs{Union{}, Union{}, Tuple{}, NamedTuple{(), Tuple{}}})",
      "    @ LinearSolve C:\\Users\\jordan\\.julia\\packages\\LinearSolve\\dxfUd\\src\\common.jl:117",
      "  [9] alg_cache(alg::Rosenbrock23{2, false, QRFactorization{Val{false}}, typeof(OrdinaryDiffEq.DEFAULT_PRECS), Val{:forward}, true, nothing}, u::CuArray{Float32, 1, CUDA.Mem.DeviceBuffer}, rate_prototype::CuArray{Float32, 1, CUDA.Mem.DeviceBuffer}, #unused#::Type{Float32}, #unused#::Type{Float32}, #unused#::Type{Float32}, uprev::CuArray{Float32, 1, CUDA.Mem.DeviceBuffer}, uprev2::CuArray{Float32, 1, CUDA.Mem.DeviceBuffer}, f::ODEFunction{true, SciMLBase.AutoSpecialize, typeof(dimensional_reduced_cancitis_rhs), UniformScaling{Bool}, Nothing, Nothing, Nothing, Nothing, Nothing, Nothing, Nothing, Nothing, Nothing, Nothing, Nothing, Nothing, Nothing, typeof(SciMLBase.DEFAULT_OBSERVED), Nothing, Nothing}, t::Float32, dt::Float32, reltol::Float32, p::CuArray{Float32, 1, CUDA.Mem.DeviceBuffer}, calck::Bool, #unused#::Val{true})",
      "    @ OrdinaryDiffEq C:\\Users\\jordan\\.julia\\packages\\OrdinaryDiffEq\\P7HJO\\src\\caches\\rosenbrock_caches.jl:96",
      " [10] macro expansion",
      "    @ C:\\Users\\jordan\\.julia\\packages\\CUDA\\BbliS\\src\\array.jl:0 [inlined]",
      " [11] __alg_cache",
      "    @ C:\\Users\\jordan\\.julia\\packages\\OrdinaryDiffEq\\P7HJO\\src\\caches\\basic_caches.jl:23 [inlined]",
      " [12] alg_cache",
      "    @ C:\\Users\\jordan\\.julia\\packages\\OrdinaryDiffEq\\P7HJO\\src\\caches\\basic_caches.jl:17 [inlined]",
      " [13] __init(prob::ODEProblem{CuArray{Float32, 1, CUDA.Mem.DeviceBuffer}, Tuple{Float32, Float32}, true, CuArray{Float32, 1, CUDA.Mem.DeviceBuffer}, ODEFunction{true, SciMLBase.AutoSpecialize, typeof(dimensional_reduced_cancitis_rhs), UniformScaling{Bool}, Nothing, Nothing, Nothing, Nothing, Nothing, Nothing, Nothing, Nothing, Nothing, Nothing, Nothing, Nothing, Nothing, typeof(SciMLBase.DEFAULT_OBSERVED), Nothing, Nothing}, Base.Iterators.Pairs{Union{}, Union{}, Tuple{}, NamedTuple{(), Tuple{}}}, SciMLBase.StandardODEProblem}, alg::CompositeAlgorithm{Tuple{Tsit5{typeof(OrdinaryDiffEq.trivial_limiter!), typeof(OrdinaryDiffEq.trivial_limiter!), Static.False}, Rosenbrock23{2, false, QRFactorization{Val{false}}, typeof(OrdinaryDiffEq.DEFAULT_PRECS), Val{:forward}, true, nothing}}, AutoSwitch{Tsit5{typeof(OrdinaryDiffEq.trivial_limiter!), typeof(OrdinaryDiffEq.trivial_limiter!), Static.False}, Rosenbrock23{0, false, Nothing, typeof(OrdinaryDiffEq.DEFAULT_PRECS), Val{:forward}, true, nothing}, Rational{Int64}, Int64}}, timeseries_init::Tuple{}, ts_init::Tuple{}, ks_init::Tuple{}, recompile::Type{Val{true}}; saveat::Tuple{}, tstops::Tuple{}, d_discontinuities::Tuple{}, save_idxs::Nothing, save_everystep::Bool, save_on::Bool, save_start::Bool, save_end::Nothing, callback::Nothing, dense::Bool, calck::Bool, dt::Float32, dtmin::Nothing, dtmax::Float32, force_dtmin::Bool, adaptive::Bool, gamma::Rational{Int64}, abstol::Nothing, reltol::Nothing, qmin::Rational{Int64}, qmax::Int64, qsteady_min::Int64, qsteady_max::Int64, beta1::Nothing, beta2::Nothing, qoldinit::Rational{Int64}, controller::Nothing, fullnormalize::Bool, failfactor::Int64, maxiters::Int64, internalnorm::typeof(DiffEqBase.ODE_DEFAULT_NORM), internalopnorm::typeof(opnorm), isoutofdomain::typeof(DiffEqBase.ODE_DEFAULT_ISOUTOFDOMAIN), unstable_check::typeof(DiffEqBase.ODE_DEFAULT_UNSTABLE_CHECK), verbose::Bool, timeseries_errors::Bool, dense_errors::Bool, advance_to_tstop::Bool, stop_at_next_tstop::Bool, initialize_save::Bool, progress::Bool, progress_steps::Int64, progress_name::String, progress_message::typeof(DiffEqBase.ODE_DEFAULT_PROG_MESSAGE), userdata::Nothing, allow_extrapolation::Bool, initialize_integrator::Bool, alias_u0::Bool, alias_du0::Bool, initializealg::OrdinaryDiffEq.DefaultInit, kwargs::Base.Iterators.Pairs{Symbol, Bool, Tuple{Symbol, Symbol}, NamedTuple{(:default_set, :second_time), Tuple{Bool, Bool}}})",
      "    @ OrdinaryDiffEq C:\\Users\\jordan\\.julia\\packages\\OrdinaryDiffEq\\P7HJO\\src\\solve.jl:316",
      " [14] #__solve#497",
      "    @ C:\\Users\\jordan\\.julia\\packages\\OrdinaryDiffEq\\P7HJO\\src\\solve.jl:5 [inlined]",
      " [15] __solve(::ODEProblem{CuArray{Float32, 1, CUDA.Mem.DeviceBuffer}, Tuple{Float32, Float32}, true, CuArray{Float32, 1, CUDA.Mem.DeviceBuffer}, ODEFunction{true, SciMLBase.AutoSpecialize, typeof(dimensional_reduced_cancitis_rhs), UniformScaling{Bool}, Nothing, Nothing, Nothing, Nothing, Nothing, Nothing, Nothing, Nothing, Nothing, Nothing, Nothing, Nothing, Nothing, typeof(SciMLBase.DEFAULT_OBSERVED), Nothing, Nothing}, Base.Iterators.Pairs{Union{}, Union{}, Tuple{}, NamedTuple{(), Tuple{}}}, SciMLBase.StandardODEProblem}, ::Nothing; default_set::Bool, kwargs::Base.Iterators.Pairs{Symbol, Bool, Tuple{Symbol}, NamedTuple{(:second_time,), Tuple{Bool}}})",
      "    @ DifferentialEquations C:\\Users\\jordan\\.julia\\packages\\DifferentialEquations\\yS3VA\\src\\default_solve.jl:9",
      " [16] #__solve#50",
      "    @ C:\\Users\\jordan\\.julia\\packages\\DiffEqBase\\WXn2i\\src\\solve.jl:1097 [inlined]",
      " [17] __solve",
      "    @ C:\\Users\\jordan\\.julia\\packages\\DiffEqBase\\WXn2i\\src\\solve.jl:1092 [inlined]",
      " [18] #solve_call#26",
      "    @ C:\\Users\\jordan\\.julia\\packages\\DiffEqBase\\WXn2i\\src\\solve.jl:473 [inlined]",
      " [19] solve_call",
      "    @ C:\\Users\\jordan\\.julia\\packages\\DiffEqBase\\WXn2i\\src\\solve.jl:445 [inlined]",
      " [20] #solve_up#32",
      "    @ C:\\Users\\jordan\\.julia\\packages\\DiffEqBase\\WXn2i\\src\\solve.jl:839 [inlined]",
      " [21] solve_up",
      "    @ C:\\Users\\jordan\\.julia\\packages\\DiffEqBase\\WXn2i\\src\\solve.jl:810 [inlined]",
      " [22] solve(::ODEProblem{CuArray{Float32, 1, CUDA.Mem.DeviceBuffer}, Tuple{Float32, Float32}, true, CuArray{Float32, 1, CUDA.Mem.DeviceBuffer}, ODEFunction{true, SciMLBase.AutoSpecialize, typeof(dimensional_reduced_cancitis_rhs), UniformScaling{Bool}, Nothing, Nothing, Nothing, Nothing, Nothing, Nothing, Nothing, Nothing, Nothing, Nothing, Nothing, Nothing, Nothing, typeof(SciMLBase.DEFAULT_OBSERVED), Nothing, Nothing}, Base.Iterators.Pairs{Union{}, Union{}, Tuple{}, NamedTuple{(), Tuple{}}}, SciMLBase.StandardODEProblem}; sensealg::Nothing, u0::Nothing, p::Nothing, wrap::Val{true}, kwargs::Base.Iterators.Pairs{Union{}, Union{}, Tuple{}, NamedTuple{(), Tuple{}}})",
      "    @ DiffEqBase C:\\Users\\jordan\\.julia\\packages\\DiffEqBase\\WXn2i\\src\\solve.jl:802",
      " [23] solve(::ODEProblem{CuArray{Float32, 1, CUDA.Mem.DeviceBuffer}, Tuple{Float32, Float32}, true, CuArray{Float32, 1, CUDA.Mem.DeviceBuffer}, ODEFunction{true, SciMLBase.AutoSpecialize, typeof(dimensional_reduced_cancitis_rhs), UniformScaling{Bool}, Nothing, Nothing, Nothing, Nothing, Nothing, Nothing, Nothing, Nothing, Nothing, Nothing, Nothing, Nothing, Nothing, typeof(SciMLBase.DEFAULT_OBSERVED), Nothing, Nothing}, Base.Iterators.Pairs{Union{}, Union{}, Tuple{}, NamedTuple{(), Tuple{}}}, SciMLBase.StandardODEProblem})",
      "    @ DiffEqBase C:\\Users\\jordan\\.julia\\packages\\DiffEqBase\\WXn2i\\src\\solve.jl:794",
      " [24] top-level scope",
      "    @ In[98]:2"
     ]
    }
   ],
   "source": [
    "cudaproblem = ODEProblem(dimensional_reduced_cancitis_rhs, u0, tspan, p)\n",
    "sol = solve(cudaproblem)"
   ]
  },
  {
   "cell_type": "code",
   "execution_count": null,
   "metadata": {},
   "outputs": [],
   "source": [
    "\n",
    "CUDA.allowscalar(false)\n",
    "prob = SDEProblem{false}(dimensional_reduced_cancitis_rhs, reduced_cancitis_noise, u0, tspan, p)\n",
    "ens_prob = EnsembleProblem(prob)"
   ]
  },
  {
   "cell_type": "code",
   "execution_count": 47,
   "metadata": {},
   "outputs": [
    {
     "name": "stdout",
     "output_type": "stream",
     "text": [
      "  0.000580 seconds (2 allocations: 32 bytes)\n"
     ]
    },
    {
     "data": {
      "text/plain": [
       "4.418f27"
      ]
     },
     "execution_count": 47,
     "metadata": {},
     "output_type": "execute_result"
    }
   ],
   "source": [
    "@time dot(p, p)"
   ]
  },
  {
   "cell_type": "code",
   "execution_count": 77,
   "metadata": {},
   "outputs": [
    {
     "data": {
      "text/plain": [
       "1-element CuArray{Float32, 1, CUDA.Mem.DeviceBuffer}:\n",
       " 0.0"
      ]
     },
     "execution_count": 77,
     "metadata": {},
     "output_type": "execute_result"
    }
   ],
   "source": [
    "@view du0[1:1]"
   ]
  },
  {
   "cell_type": "code",
   "execution_count": 60,
   "metadata": {},
   "outputs": [
    {
     "ename": "LoadError",
     "evalue": "MethodError: no method matching sqrt(::CuArray{Float32, 1, CUDA.Mem.DeviceBuffer})\n\u001b[0mClosest candidates are:\n\u001b[0m  sqrt(\u001b[91m::StridedMatrix{var\"#s814\"} where var\"#s814\"<:Real\u001b[39m) at C:\\buildbot\\worker\\package_win64\\build\\usr\\share\\julia\\stdlib\\v1.6\\LinearAlgebra\\src\\dense.jl:778\n\u001b[0m  sqrt(\u001b[91m::StridedMatrix{var\"#s814\"} where var\"#s814\"<:Complex\u001b[39m) at C:\\buildbot\\worker\\package_win64\\build\\usr\\share\\julia\\stdlib\\v1.6\\LinearAlgebra\\src\\dense.jl:791\n\u001b[0m  sqrt(\u001b[91m::Union{Static.StaticBool{N}, Static.StaticFloat64{N}, Static.StaticInt{N}}\u001b[39m) where N at C:\\Users\\jordan\\.julia\\packages\\Static\\tQ45Q\\src\\Static.jl:434\n\u001b[0m  ...",
     "output_type": "error",
     "traceback": [
      "MethodError: no method matching sqrt(::CuArray{Float32, 1, CUDA.Mem.DeviceBuffer})\n\u001b[0mClosest candidates are:\n\u001b[0m  sqrt(\u001b[91m::StridedMatrix{var\"#s814\"} where var\"#s814\"<:Real\u001b[39m) at C:\\buildbot\\worker\\package_win64\\build\\usr\\share\\julia\\stdlib\\v1.6\\LinearAlgebra\\src\\dense.jl:778\n\u001b[0m  sqrt(\u001b[91m::StridedMatrix{var\"#s814\"} where var\"#s814\"<:Complex\u001b[39m) at C:\\buildbot\\worker\\package_win64\\build\\usr\\share\\julia\\stdlib\\v1.6\\LinearAlgebra\\src\\dense.jl:791\n\u001b[0m  sqrt(\u001b[91m::Union{Static.StaticBool{N}, Static.StaticFloat64{N}, Static.StaticInt{N}}\u001b[39m) where N at C:\\Users\\jordan\\.julia\\packages\\Static\\tQ45Q\\src\\Static.jl:434\n\u001b[0m  ...",
      "",
      "Stacktrace:",
      " [1] top-level scope",
      "   @ In[60]:1"
     ]
    }
   ],
   "source": [
    "CUDA.sqrt(p)"
   ]
  },
  {
   "cell_type": "code",
   "execution_count": null,
   "metadata": {},
   "outputs": [],
   "source": []
  }
 ],
 "metadata": {
  "kernelspec": {
   "display_name": "Julia 1.6.7",
   "language": "julia",
   "name": "julia-1.6"
  },
  "language_info": {
   "file_extension": ".jl",
   "mimetype": "application/julia",
   "name": "julia",
   "version": "1.6.7"
  }
 },
 "nbformat": 4,
 "nbformat_minor": 2
}
